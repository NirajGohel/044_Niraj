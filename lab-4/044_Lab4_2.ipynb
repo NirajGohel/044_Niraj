{
  "nbformat": 4,
  "nbformat_minor": 0,
  "metadata": {
    "colab": {
      "name": "044_Lab4_2.ipynb",
      "provenance": [],
      "authorship_tag": "ABX9TyN8Pi3yd7Ioaj5Q/kluxw3/"
    },
    "kernelspec": {
      "name": "python3",
      "display_name": "Python 3"
    },
    "language_info": {
      "name": "python"
    }
  },
  "cells": [
    {
      "cell_type": "markdown",
      "metadata": {
        "id": "xVdvyz5Ajmvm"
      },
      "source": [
        "Task - 2: Apply algorithm on digits dataset - One Hot Encoding of features: and Train test Division 65%-35%"
      ]
    },
    {
      "cell_type": "code",
      "metadata": {
        "colab": {
          "base_uri": "https://localhost:8080/"
        },
        "id": "r1xsoyzdje59",
        "outputId": "ad45a011-9fea-474b-b9ab-090b96f461bc"
      },
      "source": [
        "#Import scikit-learn dataset library\n",
        "from sklearn import datasets\n",
        "from sklearn.tree import DecisionTreeClassifier\n",
        "import pandas as pd\n",
        "import numpy as np\n",
        "\n",
        "#Load dataset\n",
        "digits = datasets.load_digits()\n",
        "print(digits)"
      ],
      "execution_count": null,
      "outputs": [
        {
          "output_type": "stream",
          "name": "stdout",
          "text": [
            "{'data': array([[ 0.,  0.,  5., ...,  0.,  0.,  0.],\n",
            "       [ 0.,  0.,  0., ..., 10.,  0.,  0.],\n",
            "       [ 0.,  0.,  0., ..., 16.,  9.,  0.],\n",
            "       ...,\n",
            "       [ 0.,  0.,  1., ...,  6.,  0.,  0.],\n",
            "       [ 0.,  0.,  2., ..., 12.,  0.,  0.],\n",
            "       [ 0.,  0., 10., ..., 12.,  1.,  0.]]), 'target': array([0, 1, 2, ..., 8, 9, 8]), 'target_names': array([0, 1, 2, 3, 4, 5, 6, 7, 8, 9]), 'images': array([[[ 0.,  0.,  5., ...,  1.,  0.,  0.],\n",
            "        [ 0.,  0., 13., ..., 15.,  5.,  0.],\n",
            "        [ 0.,  3., 15., ..., 11.,  8.,  0.],\n",
            "        ...,\n",
            "        [ 0.,  4., 11., ..., 12.,  7.,  0.],\n",
            "        [ 0.,  2., 14., ..., 12.,  0.,  0.],\n",
            "        [ 0.,  0.,  6., ...,  0.,  0.,  0.]],\n",
            "\n",
            "       [[ 0.,  0.,  0., ...,  5.,  0.,  0.],\n",
            "        [ 0.,  0.,  0., ...,  9.,  0.,  0.],\n",
            "        [ 0.,  0.,  3., ...,  6.,  0.,  0.],\n",
            "        ...,\n",
            "        [ 0.,  0.,  1., ...,  6.,  0.,  0.],\n",
            "        [ 0.,  0.,  1., ...,  6.,  0.,  0.],\n",
            "        [ 0.,  0.,  0., ..., 10.,  0.,  0.]],\n",
            "\n",
            "       [[ 0.,  0.,  0., ..., 12.,  0.,  0.],\n",
            "        [ 0.,  0.,  3., ..., 14.,  0.,  0.],\n",
            "        [ 0.,  0.,  8., ..., 16.,  0.,  0.],\n",
            "        ...,\n",
            "        [ 0.,  9., 16., ...,  0.,  0.,  0.],\n",
            "        [ 0.,  3., 13., ..., 11.,  5.,  0.],\n",
            "        [ 0.,  0.,  0., ..., 16.,  9.,  0.]],\n",
            "\n",
            "       ...,\n",
            "\n",
            "       [[ 0.,  0.,  1., ...,  1.,  0.,  0.],\n",
            "        [ 0.,  0., 13., ...,  2.,  1.,  0.],\n",
            "        [ 0.,  0., 16., ..., 16.,  5.,  0.],\n",
            "        ...,\n",
            "        [ 0.,  0., 16., ..., 15.,  0.,  0.],\n",
            "        [ 0.,  0., 15., ..., 16.,  0.,  0.],\n",
            "        [ 0.,  0.,  2., ...,  6.,  0.,  0.]],\n",
            "\n",
            "       [[ 0.,  0.,  2., ...,  0.,  0.,  0.],\n",
            "        [ 0.,  0., 14., ..., 15.,  1.,  0.],\n",
            "        [ 0.,  4., 16., ..., 16.,  7.,  0.],\n",
            "        ...,\n",
            "        [ 0.,  0.,  0., ..., 16.,  2.,  0.],\n",
            "        [ 0.,  0.,  4., ..., 16.,  2.,  0.],\n",
            "        [ 0.,  0.,  5., ..., 12.,  0.,  0.]],\n",
            "\n",
            "       [[ 0.,  0., 10., ...,  1.,  0.,  0.],\n",
            "        [ 0.,  2., 16., ...,  1.,  0.,  0.],\n",
            "        [ 0.,  0., 15., ..., 15.,  0.,  0.],\n",
            "        ...,\n",
            "        [ 0.,  4., 16., ..., 16.,  6.,  0.],\n",
            "        [ 0.,  8., 16., ..., 16.,  8.,  0.],\n",
            "        [ 0.,  1.,  8., ..., 12.,  1.,  0.]]]), 'DESCR': \".. _digits_dataset:\\n\\nOptical recognition of handwritten digits dataset\\n--------------------------------------------------\\n\\n**Data Set Characteristics:**\\n\\n    :Number of Instances: 5620\\n    :Number of Attributes: 64\\n    :Attribute Information: 8x8 image of integer pixels in the range 0..16.\\n    :Missing Attribute Values: None\\n    :Creator: E. Alpaydin (alpaydin '@' boun.edu.tr)\\n    :Date: July; 1998\\n\\nThis is a copy of the test set of the UCI ML hand-written digits datasets\\nhttps://archive.ics.uci.edu/ml/datasets/Optical+Recognition+of+Handwritten+Digits\\n\\nThe data set contains images of hand-written digits: 10 classes where\\neach class refers to a digit.\\n\\nPreprocessing programs made available by NIST were used to extract\\nnormalized bitmaps of handwritten digits from a preprinted form. From a\\ntotal of 43 people, 30 contributed to the training set and different 13\\nto the test set. 32x32 bitmaps are divided into nonoverlapping blocks of\\n4x4 and the number of on pixels are counted in each block. This generates\\nan input matrix of 8x8 where each element is an integer in the range\\n0..16. This reduces dimensionality and gives invariance to small\\ndistortions.\\n\\nFor info on NIST preprocessing routines, see M. D. Garris, J. L. Blue, G.\\nT. Candela, D. L. Dimmick, J. Geist, P. J. Grother, S. A. Janet, and C.\\nL. Wilson, NIST Form-Based Handprint Recognition System, NISTIR 5469,\\n1994.\\n\\n.. topic:: References\\n\\n  - C. Kaynak (1995) Methods of Combining Multiple Classifiers and Their\\n    Applications to Handwritten Digit Recognition, MSc Thesis, Institute of\\n    Graduate Studies in Science and Engineering, Bogazici University.\\n  - E. Alpaydin, C. Kaynak (1998) Cascading Classifiers, Kybernetika.\\n  - Ken Tang and Ponnuthurai N. Suganthan and Xi Yao and A. Kai Qin.\\n    Linear dimensionalityreduction using relevance weighted LDA. School of\\n    Electrical and Electronic Engineering Nanyang Technological University.\\n    2005.\\n  - Claudio Gentile. A New Approximate Maximal Margin Classification\\n    Algorithm. NIPS. 2000.\"}\n"
          ]
        }
      ]
    },
    {
      "cell_type": "code",
      "metadata": {
        "colab": {
          "base_uri": "https://localhost:8080/"
        },
        "id": "7U0ZbjrupSQ5",
        "outputId": "919f4331-bfe1-43ee-ddaa-98078336d419"
      },
      "source": [
        "print(digits.data.shape)\n",
        "print(digits.target.shape)"
      ],
      "execution_count": null,
      "outputs": [
        {
          "output_type": "stream",
          "name": "stdout",
          "text": [
            "(1797, 64)\n",
            "(1797,)\n"
          ]
        }
      ]
    },
    {
      "cell_type": "code",
      "metadata": {
        "id": "eioL6fg1pWyL"
      },
      "source": [
        "#import the necessary module\n",
        "from sklearn.model_selection import train_test_split\n",
        "\n",
        "X=digits.data\n",
        "Y=digits.target\n",
        "\n",
        "#split data set into train and test sets\n",
        "X_train, X_test, y_train, y_test = train_test_split( \n",
        "    X, Y, test_size = 0.35, random_state = 44)"
      ],
      "execution_count": null,
      "outputs": []
    },
    {
      "cell_type": "code",
      "metadata": {
        "colab": {
          "base_uri": "https://localhost:8080/"
        },
        "id": "XFCtvtC8pp8T",
        "outputId": "2b3e5430-914e-40fc-a73b-48e96c7ad1b4"
      },
      "source": [
        "#Create a Decision Tree Classifier\n",
        "clf_gini = DecisionTreeClassifier()\n",
        "\n",
        "clf_gini.fit(X_train, y_train)"
      ],
      "execution_count": null,
      "outputs": [
        {
          "output_type": "execute_result",
          "data": {
            "text/plain": [
              "DecisionTreeClassifier(ccp_alpha=0.0, class_weight=None, criterion='gini',\n",
              "                       max_depth=None, max_features=None, max_leaf_nodes=None,\n",
              "                       min_impurity_decrease=0.0, min_impurity_split=None,\n",
              "                       min_samples_leaf=1, min_samples_split=2,\n",
              "                       min_weight_fraction_leaf=0.0, presort='deprecated',\n",
              "                       random_state=None, splitter='best')"
            ]
          },
          "metadata": {},
          "execution_count": 7
        }
      ]
    },
    {
      "cell_type": "code",
      "metadata": {
        "colab": {
          "base_uri": "https://localhost:8080/"
        },
        "id": "P8SywgV7p278",
        "outputId": "ef43afab-4e42-4ff7-cd18-3b095d5905f7"
      },
      "source": [
        "# Predict the classes of test data\n",
        "y_pred = clf_gini.predict(X_test)\n",
        "print(\"Predicted values:\")\n",
        "print(y_pred)"
      ],
      "execution_count": null,
      "outputs": [
        {
          "output_type": "stream",
          "name": "stdout",
          "text": [
            "Predicted values:\n",
            "[4 5 1 7 9 0 7 5 1 1 5 4 2 7 2 8 2 0 5 1 9 4 1 1 5 2 4 6 1 3 9 0 4 8 6 2 3\n",
            " 7 8 4 0 5 7 1 8 3 2 7 6 4 9 1 2 3 9 0 4 9 4 1 2 2 8 6 8 3 1 3 3 5 8 8 0 1\n",
            " 6 5 8 6 7 2 9 9 3 2 0 8 7 4 2 9 0 3 5 6 6 3 6 0 0 9 5 3 1 1 0 1 1 1 5 1 1\n",
            " 8 2 5 3 2 8 9 2 1 5 6 3 0 1 9 9 1 4 5 4 3 8 4 2 5 5 6 1 3 7 9 8 0 3 1 0 7\n",
            " 2 6 0 9 2 1 7 9 2 7 1 1 0 1 1 2 4 5 2 0 1 9 1 7 5 5 3 9 4 6 0 2 0 0 3 0 0\n",
            " 6 6 6 5 7 0 4 2 0 9 1 3 5 3 5 2 1 3 7 8 7 9 5 4 7 6 6 8 9 6 2 5 2 1 6 1 6\n",
            " 6 6 7 0 0 0 4 0 0 1 9 6 7 3 0 3 0 9 1 8 9 7 0 9 0 3 0 7 3 4 4 9 9 9 5 5 0\n",
            " 0 5 0 5 6 5 6 8 0 9 8 4 5 5 6 4 4 3 4 5 0 0 5 5 6 7 0 1 5 6 0 6 6 3 5 9 4\n",
            " 1 1 2 9 1 0 7 9 0 0 1 1 9 8 5 3 1 3 0 3 3 3 7 0 6 2 1 8 2 1 5 3 7 5 3 2 8\n",
            " 0 4 3 7 6 8 4 3 8 5 1 7 4 4 4 6 4 6 2 2 6 8 7 5 5 3 5 7 5 5 3 8 3 6 2 9 3\n",
            " 7 6 2 0 0 1 2 4 3 4 4 7 8 4 5 4 1 3 4 3 5 6 4 5 3 6 8 1 3 2 0 4 1 5 1 9 7\n",
            " 9 9 2 0 7 4 6 0 6 9 2 4 5 1 8 4 6 7 5 3 5 1 9 4 8 4 5 1 8 7 6 9 8 3 8 9 6\n",
            " 8 3 1 3 2 8 6 5 4 7 4 6 4 9 2 6 4 4 3 4 1 2 1 7 6 5 7 5 9 7 8 1 6 7 5 8 0\n",
            " 3 8 5 5 1 1 0 7 2 1 8 9 1 4 6 3 3 0 2 8 2 2 9 1 6 0 8 9 5 8 1 3 0 8 8 2 9\n",
            " 2 7 6 6 1 8 1 4 5 9 4 4 7 9 4 0 5 6 1 8 7 4 8 2 7 1 1 2 7 6 0 4 8 2 1 9 6\n",
            " 9 5 0 1 0 3 4 9 3 1 1 3 9 7 2 3 1 2 0 7 6 6 0 0 0 6 6 9 3 7 3 3 3 3 1 9 6\n",
            " 0 8 9 5 9 5 3 2 5 5 1 3 8 8 5 4 4 0 1 4 2 0 9 8 9 3 0 9 6 6 5 6 5 4 4 7 5]\n"
          ]
        }
      ]
    },
    {
      "cell_type": "code",
      "metadata": {
        "colab": {
          "base_uri": "https://localhost:8080/"
        },
        "id": "9-8eSKWqp72Z",
        "outputId": "c5cb51f0-ea08-4a7d-cdc7-783cd3f62cba"
      },
      "source": [
        "# Model Accuracy\n",
        "from sklearn import metrics\n",
        "print(\"Confusion Matrix: \",\n",
        "        metrics.confusion_matrix(y_test, y_pred))\n",
        "print (\"Accuracy : \",\n",
        "    metrics.accuracy_score(y_test,y_pred)*100)\n",
        "print(\"Report : \",\n",
        "    metrics.classification_report(y_test, y_pred))"
      ],
      "execution_count": null,
      "outputs": [
        {
          "output_type": "stream",
          "name": "stdout",
          "text": [
            "Confusion Matrix:  [[64  0  0  0  1  1  0  0  0  0]\n",
            " [ 0 62  0  1  1  0  1  0  6  2]\n",
            " [ 1  3 47  0  0  0  3  1  2  0]\n",
            " [ 0  2  1 55  0  1  0  0  2  2]\n",
            " [ 1  1  0  0 52  0  0  1  0  2]\n",
            " [ 0  0  0  1  1 64  1  1  0  0]\n",
            " [ 0  0  2  0  2  1 60  0  3  0]\n",
            " [ 0  2  2  1  2  0  0 45  2  1]\n",
            " [ 0  7  2  5  1  1  0  1 35  3]\n",
            " [ 4  1  0  3  3  3  0  1  2 50]]\n",
            "Accuracy :  84.8966613672496\n",
            "Report :                precision    recall  f1-score   support\n",
            "\n",
            "           0       0.91      0.97      0.94        66\n",
            "           1       0.79      0.85      0.82        73\n",
            "           2       0.87      0.82      0.85        57\n",
            "           3       0.83      0.87      0.85        63\n",
            "           4       0.83      0.91      0.87        57\n",
            "           5       0.90      0.94      0.92        68\n",
            "           6       0.92      0.88      0.90        68\n",
            "           7       0.90      0.82      0.86        55\n",
            "           8       0.67      0.64      0.65        55\n",
            "           9       0.83      0.75      0.79        67\n",
            "\n",
            "    accuracy                           0.85       629\n",
            "   macro avg       0.85      0.85      0.85       629\n",
            "weighted avg       0.85      0.85      0.85       629\n",
            "\n"
          ]
        }
      ]
    }
  ]
}