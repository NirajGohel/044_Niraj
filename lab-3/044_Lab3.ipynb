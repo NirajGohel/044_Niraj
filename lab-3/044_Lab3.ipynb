{
  "nbformat": 4,
  "nbformat_minor": 0,
  "metadata": {
    "colab": {
      "name": "044_Lab3.ipynb",
      "provenance": [],
      "collapsed_sections": [],
      "include_colab_link": true
    },
    "kernelspec": {
      "name": "python3",
      "display_name": "Python 3"
    },
    "language_info": {
      "name": "python"
    }
  },
  "cells": [
    {
      "cell_type": "markdown",
      "metadata": {
        "id": "view-in-github",
        "colab_type": "text"
      },
      "source": [
        "<a href=\"https://colab.research.google.com/github/NirajGohel/044_Niraj_Gohel/blob/main/lab-3/044_Lab3.ipynb\" target=\"_parent\"><img src=\"https://colab.research.google.com/assets/colab-badge.svg\" alt=\"Open In Colab\"/></a>"
      ]
    },
    {
      "cell_type": "code",
      "metadata": {
        "id": "mZlrZ7YvVixk",
        "colab": {
          "base_uri": "https://localhost:8080/"
        },
        "outputId": "130158b6-7fed-43e8-c25b-2e47c63faeaf"
      },
      "source": [
        "from google.colab import drive\n",
        "drive.mount('/content/drive')"
      ],
      "execution_count": 33,
      "outputs": [
        {
          "output_type": "stream",
          "name": "stdout",
          "text": [
            "Drive already mounted at /content/drive; to attempt to forcibly remount, call drive.mount(\"/content/drive\", force_remount=True).\n"
          ]
        }
      ]
    },
    {
      "cell_type": "markdown",
      "metadata": {
        "id": "u5OKuVetqS1Q"
      },
      "source": [
        "Task 1 :- Try the algo on Dataset1 - LabelEncoding of features: and Train test Division 80%-20%"
      ]
    },
    {
      "cell_type": "code",
      "metadata": {
        "id": "c-oVuubDqfsj"
      },
      "source": [
        "import numpy as np\n",
        "import pandas as pd\n",
        "from sklearn import datasets, preprocessing\n",
        "from sklearn.naive_bayes import GaussianNB, MultinomialNB\n",
        "\n",
        "dataset = pd.read_csv('/content/drive/My Drive/Colab Notebooks/ML/lab-3/Dataset3.csv')"
      ],
      "execution_count": 34,
      "outputs": []
    },
    {
      "cell_type": "code",
      "metadata": {
        "id": "TAXv1_qoNZNh"
      },
      "source": [
        ""
      ],
      "execution_count": null,
      "outputs": []
    },
    {
      "cell_type": "code",
      "metadata": {
        "colab": {
          "base_uri": "https://localhost:8080/"
        },
        "id": "U0Yju7gz8u1i",
        "outputId": "20a183fe-0811-4636-8143-ebd9d9582882"
      },
      "source": [
        "label_encoder = preprocessing.LabelEncoder()\n",
        "yrows = None\n",
        "for data_heading in dataset:\n",
        "  # print(data_heading)\n",
        "  if (data_heading != 'Class') :\n",
        "    print(f'\\n\\nHeading  :-  {data_heading}')\n",
        "    dummy = pd.get_dummies(dataset[data_heading])\n",
        "    dataset = dataset.drop([data_heading], axis = 1)\n",
        "    dataset = pd.concat([dataset, dummy], axis = 1)\n",
        "  else:\n",
        "    yrows = label_encoder.fit_transform(dataset[data_heading])\n",
        "    dataset = dataset.drop([data_heading], axis = 1)"
      ],
      "execution_count": 35,
      "outputs": [
        {
          "output_type": "stream",
          "name": "stdout",
          "text": [
            "\n",
            "\n",
            "Heading  :-  Outlook\n",
            "\n",
            "\n",
            "Heading  :-  Temp\n",
            "\n",
            "\n",
            "Heading  :-  Wind\n",
            "\n",
            "\n",
            "Heading  :-  Humidity\n"
          ]
        }
      ]
    },
    {
      "cell_type": "code",
      "metadata": {
        "colab": {
          "base_uri": "https://localhost:8080/"
        },
        "id": "MhAzQsY59A5k",
        "outputId": "b7efe665-8928-4f59-fd4f-d475e5f88ade"
      },
      "source": [
        "print(dataset, yrows)"
      ],
      "execution_count": 36,
      "outputs": [
        {
          "output_type": "stream",
          "name": "stdout",
          "text": [
            "    O  R  S  C  H  M  F  T  0  1  2\n",
            "0   0  1  0  0  1  0  1  0  0  1  0\n",
            "1   0  1  0  0  1  0  0  1  0  0  1\n",
            "2   1  0  0  0  1  0  1  0  0  1  0\n",
            "3   0  1  0  0  0  1  1  0  0  1  0\n",
            "4   0  0  1  1  0  0  1  0  0  1  0\n",
            "5   1  0  0  1  0  0  0  1  1  0  0\n",
            "6   1  0  0  1  0  0  0  1  0  1  0\n",
            "7   0  1  0  0  0  1  1  0  0  1  0\n",
            "8   1  0  0  1  0  0  1  0  1  0  0\n",
            "9   0  0  1  0  0  1  1  0  0  0  1\n",
            "10  0  1  0  1  0  0  0  1  0  0  1\n",
            "11  1  0  0  0  0  1  0  1  1  0  0\n",
            "12  1  0  0  0  1  0  1  0  0  1  0\n",
            "13  0  0  1  0  0  1  0  1  0  1  0 [0 0 1 1 1 0 1 0 1 1 0 1 1 0]\n"
          ]
        }
      ]
    },
    {
      "cell_type": "code",
      "metadata": {
        "id": "epQjdNCy9FrJ"
      },
      "source": [
        "from sklearn.model_selection import train_test_split\n",
        "\n",
        "xtrain, xtest, ytrain, ytest = train_test_split(dataset, yrows, test_size = 0.20, random_state = 44)"
      ],
      "execution_count": 37,
      "outputs": []
    },
    {
      "cell_type": "code",
      "metadata": {
        "colab": {
          "base_uri": "https://localhost:8080/"
        },
        "id": "BbOWjJw_9YC4",
        "outputId": "2cf98219-2900-4141-bb5a-e04d9d6c4431"
      },
      "source": [
        "model = MultinomialNB()\n",
        "model.fit(xtrain, ytrain)\n",
        "\n",
        "y_predicted = model.predict(xtest)\n",
        "print(xtest)\n",
        "print('\\n', y_predicted)"
      ],
      "execution_count": 38,
      "outputs": [
        {
          "output_type": "stream",
          "name": "stdout",
          "text": [
            "   O  R  S  C  H  M  F  T  0  1  2\n",
            "5  1  0  0  1  0  0  0  1  1  0  0\n",
            "8  1  0  0  1  0  0  1  0  1  0  0\n",
            "6  1  0  0  1  0  0  0  1  0  1  0\n",
            "\n",
            " [1 1 1]\n"
          ]
        }
      ]
    },
    {
      "cell_type": "code",
      "metadata": {
        "colab": {
          "base_uri": "https://localhost:8080/"
        },
        "id": "hPj7G4OP9xnw",
        "outputId": "f4851f75-edfe-4235-cb06-eb546726abdc"
      },
      "source": [
        "from sklearn import metrics\n",
        "from sklearn.metrics import precision_score\n",
        "from sklearn.metrics import recall_score\n",
        "\n",
        "print(f'Accuracy is  :-  {metrics.accuracy_score(ytest, y_predicted)}')\n",
        "\n",
        "#precision and recall\n",
        "precision = precision_score(ytest, y_predicted)\n",
        "recall = recall_score(ytest, y_predicted)\n",
        "print(f'Precision  :-  {precision}')\n",
        "print(f'Recall  :-  {recall}')"
      ],
      "execution_count": 39,
      "outputs": [
        {
          "output_type": "stream",
          "name": "stdout",
          "text": [
            "Accuracy is  :-  0.6666666666666666\n",
            "Precision  :-  0.6666666666666666\n",
            "Recall  :-  1.0\n"
          ]
        }
      ]
    },
    {
      "cell_type": "code",
      "metadata": {
        "id": "JkCwDICz-oV2",
        "colab": {
          "base_uri": "https://localhost:8080/"
        },
        "outputId": "8c3c6a1c-c532-445e-def2-9cbfd2d04fe4"
      },
      "source": [
        "#Task1\n",
        "\n",
        "#Outlook(O, R, S) = Rainy, Temp(C, H, M) = Mild, Humidity(high, low, normal) = Normal, Wind(F, T) = False\n",
        "output = model.predict([[0,1,0, 0,0,1, 0,0,1, 1,0]])\n",
        "print('Prediction  :-   ', output)\n",
        "\n",
        "#Sunny, Cool, High, True\n",
        "output = model.predict([[0,0,1, 1,0,0, 1,0,0, 0,1]])\n",
        "print('Prediction  :-  ', output)"
      ],
      "execution_count": 44,
      "outputs": [
        {
          "output_type": "stream",
          "name": "stdout",
          "text": [
            "Prediction  :-    [0]\n",
            "Prediction  :-   [1]\n"
          ]
        }
      ]
    },
    {
      "cell_type": "markdown",
      "metadata": {
        "id": "37Ax4jdSxDxF"
      },
      "source": [
        ""
      ]
    },
    {
      "cell_type": "markdown",
      "metadata": {
        "id": "eCE88nTZqgeX"
      },
      "source": [
        "Task 2 :- Apply algorithm on breast cancer wisconsin dataset - One Hot Encoding of features: and Train test Division 60%-40%"
      ]
    },
    {
      "cell_type": "code",
      "metadata": {
        "colab": {
          "base_uri": "https://localhost:8080/"
        },
        "id": "XnuOdeRFquip",
        "outputId": "a5ae516e-fe34-43c6-b7df-426d05a60704"
      },
      "source": [
        "from sklearn import preprocessing\n",
        "from sklearn.naive_bayes import GaussianNB\n",
        "from sklearn.datasets import load_breast_cancer\n",
        "\n",
        "breast_cancer_data = load_breast_cancer()\n",
        "print('Features : \\n', breast_cancer_data.feature_names)\n",
        "print('\\nLabels : \\n', breast_cancer_data.target_names)\n",
        "breast_cancer_data.data.shape"
      ],
      "execution_count": null,
      "outputs": [
        {
          "output_type": "stream",
          "name": "stdout",
          "text": [
            "Features : \n",
            " ['mean radius' 'mean texture' 'mean perimeter' 'mean area'\n",
            " 'mean smoothness' 'mean compactness' 'mean concavity'\n",
            " 'mean concave points' 'mean symmetry' 'mean fractal dimension'\n",
            " 'radius error' 'texture error' 'perimeter error' 'area error'\n",
            " 'smoothness error' 'compactness error' 'concavity error'\n",
            " 'concave points error' 'symmetry error' 'fractal dimension error'\n",
            " 'worst radius' 'worst texture' 'worst perimeter' 'worst area'\n",
            " 'worst smoothness' 'worst compactness' 'worst concavity'\n",
            " 'worst concave points' 'worst symmetry' 'worst fractal dimension']\n",
            "\n",
            "Labels : \n",
            " ['malignant' 'benign']\n"
          ]
        },
        {
          "output_type": "execute_result",
          "data": {
            "text/plain": [
              "(569, 30)"
            ]
          },
          "metadata": {},
          "execution_count": 3
        }
      ]
    },
    {
      "cell_type": "code",
      "metadata": {
        "id": "hLQbLeturjsB"
      },
      "source": [
        "from sklearn.model_selection import train_test_split\n",
        "\n",
        "data_train, data_test, target_train, target_test = train_test_split(breast_cancer_data.data, breast_cancer_data.target, test_size = 0.40, random_state = 44)"
      ],
      "execution_count": null,
      "outputs": []
    },
    {
      "cell_type": "code",
      "metadata": {
        "id": "mK12_a8rr9vi"
      },
      "source": [
        "import numpy as np\n",
        "gnb = GaussianNB()\n",
        "\n",
        "gnb.fit(data_train, target_train)   #train the model using training sets\n",
        "target_prediction = gnb.predict(data_test)  #predict the response of test dataset"
      ],
      "execution_count": null,
      "outputs": []
    },
    {
      "cell_type": "code",
      "metadata": {
        "colab": {
          "base_uri": "https://localhost:8080/"
        },
        "id": "h7GpGDbYsa1j",
        "outputId": "d9e93dcd-1a5c-486d-8a4d-b7796eeced41"
      },
      "source": [
        "from sklearn import metrics\n",
        "\n",
        "print('Accuracy of model  :  ', metrics.accuracy_score(target_test, target_prediction))"
      ],
      "execution_count": null,
      "outputs": [
        {
          "output_type": "stream",
          "name": "stdout",
          "text": [
            "Accuracy of model  :   0.9254385964912281\n"
          ]
        }
      ]
    },
    {
      "cell_type": "code",
      "metadata": {
        "colab": {
          "base_uri": "https://localhost:8080/"
        },
        "id": "0W3wS8TUszwP",
        "outputId": "1b16c79a-ebfa-490d-adbf-3799b8217aeb"
      },
      "source": [
        "from sklearn.metrics import confusion_matrix\n",
        "confusion_matrix(target_test, target_prediction)"
      ],
      "execution_count": null,
      "outputs": [
        {
          "output_type": "execute_result",
          "data": {
            "text/plain": [
              "array([[ 76,   9],\n",
              "       [  8, 135]])"
            ]
          },
          "metadata": {},
          "execution_count": 7
        }
      ]
    },
    {
      "cell_type": "code",
      "metadata": {
        "colab": {
          "base_uri": "https://localhost:8080/"
        },
        "id": "fNui1WKQtKLb",
        "outputId": "d3ae6eec-92f0-4e46-8fe6-64b644e8cdd9"
      },
      "source": [
        "from sklearn.metrics import precision_score\n",
        "from sklearn.metrics import recall_score\n",
        "\n",
        "precision = precision_score(target_test, target_prediction, average = None)\n",
        "recall = recall_score(target_test, target_prediction, average = None)\n",
        "\n",
        "print('Precision  :  {}'.format(precision))\n",
        "print('\\n\\nRecall  :  {}'.format(recall))"
      ],
      "execution_count": null,
      "outputs": [
        {
          "output_type": "stream",
          "name": "stdout",
          "text": [
            "Precision  :  [0.9047619 0.9375   ]\n",
            "\n",
            "\n",
            "Recall  :  [0.89411765 0.94405594]\n"
          ]
        }
      ]
    }
  ]
}