{
  "nbformat": 4,
  "nbformat_minor": 0,
  "metadata": {
    "colab": {
      "name": "044_Lab3_2.ipynb",
      "provenance": [],
      "authorship_tag": "ABX9TyN6UFtbJSRo/gzDhXXHUnc5"
    },
    "kernelspec": {
      "name": "python3",
      "display_name": "Python 3"
    },
    "language_info": {
      "name": "python"
    }
  },
  "cells": [
    {
      "cell_type": "markdown",
      "metadata": {
        "id": "pjcJ3tnr-hi_"
      },
      "source": [
        "Task - 2: Apply algorithm on breast cancer wisconsin dataset - One Hot Encoding of features: and Train test Division 60%-40%"
      ]
    },
    {
      "cell_type": "code",
      "metadata": {
        "colab": {
          "base_uri": "https://localhost:8080/"
        },
        "id": "g_CzzexH-X_F",
        "outputId": "64c6ef9a-08dd-4b63-8749-edd59f412a5a"
      },
      "source": [
        "from sklearn import preprocessing\n",
        "from sklearn.naive_bayes import GaussianNB\n",
        "from sklearn.datasets import load_breast_cancer\n",
        "\n",
        "breast_cancer_data = load_breast_cancer()\n",
        "print('Features : \\n', breast_cancer_data.feature_names)\n",
        "print('\\nLabels : \\n', breast_cancer_data.target_names)\n",
        "breast_cancer_data.data.shape"
      ],
      "execution_count": null,
      "outputs": [
        {
          "output_type": "stream",
          "name": "stdout",
          "text": [
            "Features : \n",
            " ['mean radius' 'mean texture' 'mean perimeter' 'mean area'\n",
            " 'mean smoothness' 'mean compactness' 'mean concavity'\n",
            " 'mean concave points' 'mean symmetry' 'mean fractal dimension'\n",
            " 'radius error' 'texture error' 'perimeter error' 'area error'\n",
            " 'smoothness error' 'compactness error' 'concavity error'\n",
            " 'concave points error' 'symmetry error' 'fractal dimension error'\n",
            " 'worst radius' 'worst texture' 'worst perimeter' 'worst area'\n",
            " 'worst smoothness' 'worst compactness' 'worst concavity'\n",
            " 'worst concave points' 'worst symmetry' 'worst fractal dimension']\n",
            "\n",
            "Labels : \n",
            " ['malignant' 'benign']\n"
          ]
        },
        {
          "output_type": "execute_result",
          "data": {
            "text/plain": [
              "(569, 30)"
            ]
          },
          "metadata": {},
          "execution_count": 1
        }
      ]
    },
    {
      "cell_type": "code",
      "metadata": {
        "id": "F52gMbaw-yaZ"
      },
      "source": [
        "from sklearn.model_selection import train_test_split\n",
        "\n",
        "data_train, data_test, target_train, target_test = train_test_split(breast_cancer_data.data, breast_cancer_data.target, test_size = 0.40, random_state = 44)"
      ],
      "execution_count": null,
      "outputs": []
    },
    {
      "cell_type": "code",
      "metadata": {
        "id": "ZxAJz8t_-402"
      },
      "source": [
        "import numpy as np\n",
        "gnb = GaussianNB()\n",
        "\n",
        "gnb.fit(data_train, target_train)   #train the model using training sets\n",
        "target_prediction = gnb.predict(data_test)  #predict the response of test dataset"
      ],
      "execution_count": null,
      "outputs": []
    },
    {
      "cell_type": "code",
      "metadata": {
        "colab": {
          "base_uri": "https://localhost:8080/"
        },
        "id": "QKxUFBah-7_x",
        "outputId": "3155d7b7-cfa6-4311-a2f1-49dcb24a9864"
      },
      "source": [
        "from sklearn import metrics\n",
        "\n",
        "print('Accuracy of model  :  ', metrics.accuracy_score(target_test, target_prediction))"
      ],
      "execution_count": null,
      "outputs": [
        {
          "output_type": "stream",
          "name": "stdout",
          "text": [
            "Accuracy of model  :   0.9254385964912281\n"
          ]
        }
      ]
    },
    {
      "cell_type": "code",
      "metadata": {
        "colab": {
          "base_uri": "https://localhost:8080/"
        },
        "id": "wS_CKy9W-_Hy",
        "outputId": "b71330fb-fb83-494c-a29c-52be0bcd8b98"
      },
      "source": [
        "from sklearn.metrics import confusion_matrix\n",
        "confusion_matrix(target_test, target_prediction)"
      ],
      "execution_count": null,
      "outputs": [
        {
          "output_type": "execute_result",
          "data": {
            "text/plain": [
              "array([[ 76,   9],\n",
              "       [  8, 135]])"
            ]
          },
          "metadata": {},
          "execution_count": 5
        }
      ]
    },
    {
      "cell_type": "code",
      "metadata": {
        "colab": {
          "base_uri": "https://localhost:8080/"
        },
        "id": "gsBh5KtZ_Ctb",
        "outputId": "39db15d1-a581-4aa8-c635-1413c9977b53"
      },
      "source": [
        "from sklearn.metrics import precision_score\n",
        "from sklearn.metrics import recall_score\n",
        "\n",
        "precision = precision_score(target_test, target_prediction, average = None)\n",
        "recall = recall_score(target_test, target_prediction, average = None)\n",
        "\n",
        "print('Precision  :  {}'.format(precision))\n",
        "print('\\n\\nRecall  :  {}'.format(recall))"
      ],
      "execution_count": null,
      "outputs": [
        {
          "output_type": "stream",
          "name": "stdout",
          "text": [
            "Precision  :  [0.9047619 0.9375   ]\n",
            "\n",
            "\n",
            "Recall  :  [0.89411765 0.94405594]\n"
          ]
        }
      ]
    }
  ]
}