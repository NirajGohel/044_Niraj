{
  "nbformat": 4,
  "nbformat_minor": 0,
  "metadata": {
    "colab": {
      "name": "044_Lab3_1.ipynb",
      "provenance": [],
      "collapsed_sections": []
    },
    "kernelspec": {
      "name": "python3",
      "display_name": "Python 3"
    },
    "language_info": {
      "name": "python"
    }
  },
  "cells": [
    {
      "cell_type": "code",
      "metadata": {
        "id": "mZlrZ7YvVixk",
        "colab": {
          "base_uri": "https://localhost:8080/"
        },
        "outputId": "934b7e62-d37b-4963-9f00-48a0d50820d8"
      },
      "source": [
        "from google.colab import drive\n",
        "drive.mount('/content/drive')"
      ],
      "execution_count": 22,
      "outputs": [
        {
          "output_type": "stream",
          "name": "stdout",
          "text": [
            "Drive already mounted at /content/drive; to attempt to forcibly remount, call drive.mount(\"/content/drive\", force_remount=True).\n"
          ]
        }
      ]
    },
    {
      "cell_type": "code",
      "metadata": {
        "id": "c-oVuubDqfsj"
      },
      "source": [
        "import numpy as np\n",
        "import pandas as pd\n",
        "from sklearn import datasets, preprocessing\n",
        "from sklearn.naive_bayes import GaussianNB, MultinomialNB\n",
        "\n",
        "dataset = pd.read_csv('/content/drive/My Drive/Colab Notebooks/ML/lab-3/Dataset3.csv')"
      ],
      "execution_count": 46,
      "outputs": []
    },
    {
      "cell_type": "code",
      "metadata": {
        "colab": {
          "base_uri": "https://localhost:8080/"
        },
        "id": "U0Yju7gz8u1i",
        "outputId": "076521e2-325c-437b-fafa-1b5c62ef974b"
      },
      "source": [
        "label_encoder = preprocessing.LabelEncoder()\n",
        "yrows = None\n",
        "for data_heading in dataset:\n",
        "  # print(data_heading)\n",
        "  if (data_heading != 'Class') :\n",
        "    print(f'\\n\\nHeading  :-  {data_heading}')\n",
        "    dummy = pd.get_dummies(dataset[data_heading])\n",
        "    dataset = dataset.drop([data_heading], axis = 1)\n",
        "    dataset = pd.concat([dataset, dummy], axis = 1)\n",
        "  else:\n",
        "    yrows = label_encoder.fit_transform(dataset[data_heading])\n",
        "    dataset = dataset.drop([data_heading], axis = 1)"
      ],
      "execution_count": 47,
      "outputs": [
        {
          "output_type": "stream",
          "name": "stdout",
          "text": [
            "\n",
            "\n",
            "Heading  :-  Outlook\n",
            "\n",
            "\n",
            "Heading  :-  Temp\n",
            "\n",
            "\n",
            "Heading  :-  Wind\n",
            "\n",
            "\n",
            "Heading  :-  Humidity\n"
          ]
        }
      ]
    },
    {
      "cell_type": "code",
      "metadata": {
        "colab": {
          "base_uri": "https://localhost:8080/"
        },
        "id": "MhAzQsY59A5k",
        "outputId": "7668e81e-66c9-4bed-bfc0-b219ed78f5d2"
      },
      "source": [
        "print(dataset, yrows)"
      ],
      "execution_count": 51,
      "outputs": [
        {
          "output_type": "stream",
          "name": "stdout",
          "text": [
            "    O  R  S  C  H  M  F  T  0  1  2\n",
            "0   0  1  0  0  1  0  1  0  0  1  0\n",
            "1   0  1  0  0  1  0  0  1  0  0  1\n",
            "2   1  0  0  0  1  0  1  0  0  1  0\n",
            "3   0  1  0  0  0  1  1  0  0  1  0\n",
            "4   0  0  1  1  0  0  1  0  0  1  0\n",
            "5   1  0  0  1  0  0  0  1  1  0  0\n",
            "6   1  0  0  1  0  0  0  1  0  1  0\n",
            "7   0  1  0  0  0  1  1  0  0  1  0\n",
            "8   1  0  0  1  0  0  1  0  1  0  0\n",
            "9   0  0  1  0  0  1  1  0  0  0  1\n",
            "10  0  1  0  1  0  0  0  1  0  0  1\n",
            "11  1  0  0  0  0  1  0  1  1  0  0\n",
            "12  1  0  0  0  1  0  1  0  0  1  0\n",
            "13  0  0  1  0  0  1  0  1  0  1  0 [0 0 1 1 1 0 1 0 1 1 0 1 1 0]\n"
          ]
        }
      ]
    },
    {
      "cell_type": "code",
      "metadata": {
        "id": "UVqiXpY4H6G1"
      },
      "source": [
        "from sklearn.model_selection import train_test_split\n",
        "\n",
        "xtrain, xtest, ytrain, ytest = train_test_split(dataset, yrows, test_size = 0.20, random_state = 44)"
      ],
      "execution_count": 52,
      "outputs": []
    },
    {
      "cell_type": "code",
      "metadata": {
        "colab": {
          "base_uri": "https://localhost:8080/"
        },
        "id": "lMH97FacKgQf",
        "outputId": "c4d734ec-4fcc-459c-aede-28f17fc356c5"
      },
      "source": [
        "model = MultinomialNB()\n",
        "model.fit(xtrain, ytrain)\n",
        "\n",
        "y_predicted = model.predict(xtest)\n",
        "print(xtest)\n",
        "print('\\n', y_predicted)"
      ],
      "execution_count": 53,
      "outputs": [
        {
          "output_type": "stream",
          "name": "stdout",
          "text": [
            "   O  R  S  C  H  M  F  T  0  1  2\n",
            "5  1  0  0  1  0  0  0  1  1  0  0\n",
            "8  1  0  0  1  0  0  1  0  1  0  0\n",
            "6  1  0  0  1  0  0  0  1  0  1  0\n",
            "\n",
            " [1 1 1]\n"
          ]
        }
      ]
    },
    {
      "cell_type": "code",
      "metadata": {
        "colab": {
          "base_uri": "https://localhost:8080/"
        },
        "id": "BbOWjJw_9YC4",
        "outputId": "f04de6eb-c95f-43c5-c52f-661d108ec0d1"
      },
      "source": [
        "from sklearn import metrics\n",
        "from sklearn.metrics import precision_score\n",
        "from sklearn.metrics import recall_score\n",
        "\n",
        "print(f'Accuracy is  :-  {metrics.accuracy_score(ytest, y_predicted)}')\n",
        "\n",
        "#precision and recall\n",
        "precision = precision_score(ytest, y_predicted)\n",
        "recall = recall_score(ytest, y_predicted)\n",
        "print(f'Precision  :-  {precision}')\n",
        "print(f'Recall  :-  {recall}')"
      ],
      "execution_count": 54,
      "outputs": [
        {
          "output_type": "stream",
          "name": "stdout",
          "text": [
            "Accuracy is  :-  0.6666666666666666\n",
            "Precision  :-  0.6666666666666666\n",
            "Recall  :-  1.0\n"
          ]
        }
      ]
    },
    {
      "cell_type": "code",
      "metadata": {
        "colab": {
          "base_uri": "https://localhost:8080/"
        },
        "id": "hPj7G4OP9xnw",
        "outputId": "2ec84434-dd28-4874-d0ba-099e444e166a"
      },
      "source": [
        "#Task1\n",
        "\n",
        "#Outlook(O, R, S) = Rainy, Temp(C, H, M) = Mild, Humidity(high, low, normal) = Normal, Wind(F, T) = False\n",
        "output = model.predict([[0,1,0, 0,0,1, 0,0,1, 1,0]])\n",
        "print('Prediction  :-   ', output)\n",
        "\n",
        "#Sunny, Cool, High, True\n",
        "output = model.predict([[0,0,1, 1,0,0, 1,0,0, 0,1]])\n",
        "print('Prediction  :-  ', output)"
      ],
      "execution_count": 55,
      "outputs": [
        {
          "output_type": "stream",
          "name": "stdout",
          "text": [
            "Prediction  :-    [0]\n",
            "Prediction  :-   [1]\n"
          ]
        }
      ]
    }
  ]
}