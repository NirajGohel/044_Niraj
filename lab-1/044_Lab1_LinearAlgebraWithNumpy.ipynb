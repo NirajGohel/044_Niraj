{
  "nbformat": 4,
  "nbformat_minor": 0,
  "metadata": {
    "colab": {
      "name": "044_Lab1_LinearAlgebraWithNumpy.ipynb",
      "provenance": [],
      "collapsed_sections": [],
      "include_colab_link": true
    },
    "kernelspec": {
      "name": "python3",
      "display_name": "Python 3"
    },
    "language_info": {
      "name": "python"
    }
  },
  "cells": [
    {
      "cell_type": "markdown",
      "metadata": {
        "id": "view-in-github",
        "colab_type": "text"
      },
      "source": [
        "<a href=\"https://colab.research.google.com/github/NirajGohel/044_Niraj_Gohel/blob/main/lab-1/044_Lab1_LinearAlgebraWithNumpy.ipynb\" target=\"_parent\"><img src=\"https://colab.research.google.com/assets/colab-badge.svg\" alt=\"Open In Colab\"/></a>"
      ]
    },
    {
      "cell_type": "code",
      "metadata": {
        "colab": {
          "base_uri": "https://localhost:8080/"
        },
        "id": "qWsQ1psErA7_",
        "outputId": "bed933ce-9ccd-4715-955d-4f471ffde28c"
      },
      "source": [
        "from google.colab import drive\n",
        "drive.mount('/content/drive')"
      ],
      "execution_count": 1,
      "outputs": [
        {
          "output_type": "stream",
          "text": [
            "Mounted at /content/drive\n"
          ],
          "name": "stdout"
        }
      ]
    },
    {
      "cell_type": "code",
      "metadata": {
        "colab": {
          "base_uri": "https://localhost:8080/"
        },
        "id": "eZzmjIupuzI5",
        "outputId": "0d8810d3-99a7-4b1b-ca3c-2629a49bb02c"
      },
      "source": [
        "import numpy as np\n",
        "import pandas as pd\n",
        "\n",
        "matrix3x2 = np.array([[1, 2], [3, 4], [5, 6]])\n",
        "matrix2x3 = np.array([[1, 2, 4], [4, 5, 6]])\n",
        "\n",
        "print('3 x 2 matrix : \\n', matrix3x2)\n",
        "print('\\n 2 x 3 matrix : \\n', matrix2x3)"
      ],
      "execution_count": 2,
      "outputs": [
        {
          "output_type": "stream",
          "text": [
            "3 x 2 matrix : \n",
            " [[1 2]\n",
            " [3 4]\n",
            " [5 6]]\n",
            "\n",
            " 2 x 3 matrix : \n",
            " [[1 2 4]\n",
            " [4 5 6]]\n"
          ],
          "name": "stdout"
        }
      ]
    },
    {
      "cell_type": "code",
      "metadata": {
        "colab": {
          "base_uri": "https://localhost:8080/"
        },
        "id": "y_vFGpTCwqgl",
        "outputId": "17072444-ade7-4d8f-eaf1-a0656104261f"
      },
      "source": [
        "random_matrix = np.random.rand(3, 4)\n",
        "print(random_matrix)"
      ],
      "execution_count": 3,
      "outputs": [
        {
          "output_type": "stream",
          "text": [
            "[[0.1614223  0.18861079 0.40763103 0.06383514]\n",
            " [0.11103044 0.78104447 0.81514055 0.5375974 ]\n",
            " [0.78067325 0.38422543 0.06722789 0.34702482]]\n"
          ],
          "name": "stdout"
        }
      ]
    },
    {
      "cell_type": "code",
      "metadata": {
        "colab": {
          "base_uri": "https://localhost:8080/"
        },
        "id": "aXc-DdSc1FIW",
        "outputId": "8110bec9-74e0-4cb6-aacc-55942a7bcf35"
      },
      "source": [
        "# matrix multiplication\n",
        "matmul = np.dot(matrix3x2, matrix2x3)\n",
        "print(matmul)"
      ],
      "execution_count": null,
      "outputs": [
        {
          "output_type": "stream",
          "text": [
            "[[ 9 12 16]\n",
            " [19 26 36]\n",
            " [29 40 56]]\n"
          ],
          "name": "stdout"
        }
      ]
    },
    {
      "cell_type": "code",
      "metadata": {
        "colab": {
          "base_uri": "https://localhost:8080/"
        },
        "id": "vS720pKU1jwS",
        "outputId": "fa930a34-b063-43f9-e8ce-c27cf8ab7044"
      },
      "source": [
        "# elemet wise matrix multiplication\n",
        "result = [[0 for x in range(len(matrix3x2))] for y in range(len(matrix2x3[0]))]\n",
        "\n",
        "for i in range(len(matrix3x2)): \n",
        "  for j in range(len(matrix2x3[0])): \n",
        "    for k in range(len(matrix2x3)): \n",
        "      result[i][j] += matrix3x2[i][k] * matrix2x3[k][j]\n",
        " \n",
        "print('Element wise multiplication : \\n', result)"
      ],
      "execution_count": 4,
      "outputs": [
        {
          "output_type": "stream",
          "text": [
            "Element wise multiplication : \n",
            " [[9, 12, 16], [19, 26, 36], [29, 40, 56]]\n"
          ],
          "name": "stdout"
        }
      ]
    },
    {
      "cell_type": "code",
      "metadata": {
        "colab": {
          "base_uri": "https://localhost:8080/"
        },
        "id": "1qUUvFfC6Rgn",
        "outputId": "f65efa11-21f2-4c4c-feae-6d4bf0f5ae25"
      },
      "source": [
        "mean = np.mean(matrix3x2)\n",
        "print(mean)"
      ],
      "execution_count": 8,
      "outputs": [
        {
          "output_type": "stream",
          "text": [
            "3.5\n"
          ],
          "name": "stdout"
        }
      ]
    },
    {
      "cell_type": "code",
      "metadata": {
        "id": "i_dClDLp8DxX"
      },
      "source": [
        "data = pd.read_csv('/content/drive/MyDrive/Colab Notebooks/ML/lab-1/mtcars.csv')"
      ],
      "execution_count": 9,
      "outputs": []
    },
    {
      "cell_type": "code",
      "metadata": {
        "colab": {
          "base_uri": "https://localhost:8080/"
        },
        "id": "HZ2zXizbAsgP",
        "outputId": "5d45dffc-53c6-404f-f70a-6211e7c6e58d"
      },
      "source": [
        "del data['model']\n",
        "\n",
        "meancenter = data.apply(lambda e: e - e.mean())\n",
        "print(meancenter.head())"
      ],
      "execution_count": 10,
      "outputs": [
        {
          "output_type": "stream",
          "text": [
            "        mpg     cyl        disp       hp  ...      vs       am    gear    carb\n",
            "0  0.909375 -0.1875  -70.721875 -36.6875  ... -0.4375  0.59375  0.3125  1.1875\n",
            "1  0.909375 -0.1875  -70.721875 -36.6875  ... -0.4375  0.59375  0.3125  1.1875\n",
            "2  2.709375 -2.1875 -122.721875 -53.6875  ...  0.5625  0.59375  0.3125 -1.8125\n",
            "3  1.309375 -0.1875   27.278125 -36.6875  ...  0.5625 -0.40625 -0.6875 -1.8125\n",
            "4 -1.390625  1.8125  129.278125  28.3125  ... -0.4375 -0.40625 -0.6875 -0.8125\n",
            "\n",
            "[5 rows x 11 columns]\n"
          ],
          "name": "stdout"
        }
      ]
    }
  ]
}