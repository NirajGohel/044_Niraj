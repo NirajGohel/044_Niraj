{
  "nbformat": 4,
  "nbformat_minor": 0,
  "metadata": {
    "colab": {
      "name": "044_Lab8_1_K_Means.ipynb",
      "provenance": [],
      "authorship_tag": "ABX9TyPLH1badS5qKaAxyV2Sn6zz"
    },
    "kernelspec": {
      "name": "python3",
      "display_name": "Python 3"
    },
    "language_info": {
      "name": "python"
    }
  },
  "cells": [
    {
      "cell_type": "markdown",
      "metadata": {
        "id": "HplIPpgQiSjD"
      },
      "source": [
        "# Import Libraries"
      ]
    },
    {
      "cell_type": "code",
      "metadata": {
        "id": "Pdp7_OhKiPgb"
      },
      "source": [
        "import numpy as np \n",
        "import pandas as pd \n",
        "from sklearn import datasets\n",
        "from sklearn.cluster import KMeans\n",
        "import matplotlib.pyplot as plt"
      ],
      "execution_count": null,
      "outputs": []
    },
    {
      "cell_type": "markdown",
      "metadata": {
        "id": "TgloBZqoigsb"
      },
      "source": [
        "# Prepare Data"
      ]
    },
    {
      "cell_type": "code",
      "metadata": {
        "colab": {
          "base_uri": "https://localhost:8080/"
        },
        "id": "c_tZ5Kz1iiua",
        "outputId": "48c029db-1558-47a0-ac42-2778674cbc96"
      },
      "source": [
        "dataset=datasets.load_breast_cancer()\n",
        "dataset\n",
        "\n",
        "print(dataset.data.shape)\n",
        "print(dataset.target.shape)"
      ],
      "execution_count": null,
      "outputs": [
        {
          "output_type": "stream",
          "name": "stdout",
          "text": [
            "(569, 30)\n",
            "(569,)\n"
          ]
        }
      ]
    },
    {
      "cell_type": "markdown",
      "metadata": {
        "id": "x1f0DzLHinrh"
      },
      "source": [
        "# K-Mean Model"
      ]
    },
    {
      "cell_type": "code",
      "metadata": {
        "colab": {
          "base_uri": "https://localhost:8080/"
        },
        "id": "Sm6IVpauipXp",
        "outputId": "d50f96d4-b916-42a6-9cb4-854d549df5fd"
      },
      "source": [
        "kmeans = KMeans(n_clusters=10, random_state=44)\n",
        "prediction = kmeans.fit_predict(dataset.data)\n",
        "print(prediction)\n",
        "\n",
        "kmeans.cluster_centers_.shape\n",
        "print(kmeans.cluster_centers_)"
      ],
      "execution_count": null,
      "outputs": [
        {
          "output_type": "stream",
          "name": "stdout",
          "text": [
            "[1 1 9 0 9 6 9 6 6 6 2 4 4 2 6 2 2 4 7 6 0 5 2 7 1 4 6 4 4 4 9 6 4 1 4 4 6\n",
            " 0 6 6 6 0 9 6 6 9 5 6 0 6 0 6 0 4 2 0 1 2 0 5 5 5 2 5 6 2 5 0 5 0 1 5 9 6\n",
            " 0 4 0 9 9 0 0 0 3 4 0 9 6 9 0 6 6 6 6 6 2 1 0 5 0 6 6 5 0 5 5 6 0 0 7 0 5\n",
            " 0 6 5 5 0 5 2 4 4 0 9 7 6 0 6 6 9 6 9 0 2 4 2 9 0 0 0 2 5 5 4 0 0 5 0 0 6\n",
            " 6 6 0 5 5 5 6 0 4 2 0 0 0 9 7 0 7 6 5 4 9 6 0 2 2 5 5 5 5 2 0 0 3 1 4 0 2\n",
            " 5 4 0 0 0 6 0 5 6 6 0 6 4 9 2 0 4 7 2 0 2 5 4 0 2 9 0 3 2 6 6 0 5 1 7 6 6\n",
            " 5 2 6 6 5 6 0 6 4 0 0 1 5 6 3 1 6 4 6 0 0 6 9 5 0 0 5 0 1 0 1 4 1 6 1 2 4\n",
            " 2 1 4 4 2 4 3 5 6 0 5 6 0 7 5 4 0 0 4 6 6 9 0 9 2 0 0 0 0 5 0 6 6 0 0 0 6\n",
            " 5 0 6 5 1 0 9 5 0 0 0 5 6 6 0 6 0 0 5 0 0 9 5 0 5 9 0 1 0 0 6 0 2 2 2 0 5\n",
            " 0 0 4 0 1 5 3 6 5 5 9 0 5 0 6 0 0 0 2 3 2 0 0 0 6 5 5 0 0 0 2 6 1 9 0 3 7\n",
            " 4 6 9 1 6 2 5 6 6 0 0 5 0 0 0 6 0 6 0 4 5 5 4 7 0 6 6 0 0 0 4 0 0 0 0 0 2\n",
            " 0 4 0 0 0 5 6 2 0 5 9 0 0 0 6 0 6 5 5 5 0 5 0 6 0 9 9 6 6 0 6 6 6 0 4 6 5\n",
            " 4 0 4 6 6 1 0 9 0 6 0 6 0 0 0 5 9 8 6 0 6 6 6 5 4 0 5 0 2 0 5 0 6 6 0 2 0\n",
            " 6 6 6 2 0 6 9 0 2 0 4 4 0 0 6 0 0 9 1 6 6 0 3 5 5 0 5 2 2 0 6 6 6 2 0 9 9\n",
            " 0 0 5 3 5 6 5 5 6 0 6 0 0 0 6 9 5 1 6 0 5 5 0 6 6 0 6 6 5 5 5 0 5 5 0 5 0\n",
            " 5 5 5 6 0 6 5 2 1 7 9 2 1 5]\n",
            "[[1.21455932e+01 1.81380226e+01 7.80731638e+01 4.54409605e+02\n",
            "  9.29466102e-02 7.94957062e-02 4.50697271e-02 2.58724633e-02\n",
            "  1.74355367e-01 6.23671751e-02 2.76933333e-01 1.19986271e+00\n",
            "  1.96683559e+00 2.05246328e+01 6.80219209e-03 2.03920169e-02\n",
            "  2.39684441e-02 9.61710734e-03 2.03990395e-02 3.30623446e-03\n",
            "  1.34072316e+01 2.42203955e+01 8.71858757e+01 5.49828814e+02\n",
            "  1.26831299e-01 1.92067401e-01 1.75194616e-01 7.76532260e-02\n",
            "  2.78178531e-01 7.95596045e-02]\n",
            " [1.99319231e+01 2.20330769e+01 1.31950000e+02 1.23710000e+03\n",
            "  1.01086538e-01 1.57223846e-01 1.83885000e-01 1.03358077e-01\n",
            "  1.92600000e-01 6.12934615e-02 7.24403846e-01 1.02957308e+00\n",
            "  5.06257692e+00 9.20784615e+01 5.94592308e-03 3.09096154e-02\n",
            "  4.11569231e-02 1.49783846e-02 1.77303846e-02 3.86411538e-03\n",
            "  2.50984615e+01 2.94969231e+01 1.67723077e+02 1.92269231e+03\n",
            "  1.43569231e-01 4.08057692e-01 4.97996154e-01 2.08269231e-01\n",
            "  3.22396154e-01 9.20384615e-02]\n",
            " [1.55076596e+01 2.02889362e+01 1.01703617e+02 7.45085106e+02\n",
            "  1.01014255e-01 1.26042553e-01 1.25749787e-01 6.61974468e-02\n",
            "  1.85621277e-01 6.26174468e-02 3.96329787e-01 1.04854043e+00\n",
            "  2.78789362e+00 3.79165957e+01 6.79355319e-03 2.84824255e-02\n",
            "  3.86385106e-02 1.36298936e-02 1.91948085e-02 3.68908511e-03\n",
            "  1.80527660e+01 2.75795745e+01 1.19876596e+02 9.99189362e+02\n",
            "  1.42285957e-01 3.36148085e-01 3.97378723e-01 1.52794468e-01\n",
            "  3.14157447e-01 8.93785106e-02]\n",
            " [2.43160000e+01 2.23750000e+01 1.61910000e+02 1.85420000e+03\n",
            "  1.03174000e-01 1.68032000e-01 2.35580000e-01 1.40631000e-01\n",
            "  1.79210000e-01 5.89640000e-02 1.23297000e+00 1.14835000e+00\n",
            "  8.82800000e+00 1.99120000e+02 6.61970000e-03 2.92370000e-02\n",
            "  3.93590000e-02 1.50810000e-02 1.95370000e-02 3.44310000e-03\n",
            "  3.09990000e+01 2.98160000e+01 2.08940000e+02 2.93600000e+03\n",
            "  1.40180000e-01 3.64520000e-01 4.68620000e-01 2.28060000e-01\n",
            "  2.76880000e-01 8.10070000e-02]\n",
            " [1.72662222e+01 2.12826667e+01 1.13766667e+02 9.30031111e+02\n",
            "  9.96044444e-02 1.34278667e-01 1.40752222e-01 8.17808889e-02\n",
            "  1.90786667e-01 6.09995556e-02 5.76202222e-01 1.28895333e+00\n",
            "  4.13328889e+00 6.30108889e+01 6.40597778e-03 3.02990444e-02\n",
            "  3.75984444e-02 1.49950444e-02 2.00477778e-02 4.04933333e-03\n",
            "  2.05342222e+01 2.85542222e+01 1.36617778e+02 1.29620000e+03\n",
            "  1.38425333e-01 3.23276889e-01 3.89095556e-01 1.69770444e-01\n",
            "  3.12826667e-01 8.54171111e-02]\n",
            " [9.87515385e+00 1.78310989e+01 6.31275824e+01 2.99732967e+02\n",
            "  9.64635165e-02 8.09469231e-02 4.46973846e-02 1.89206154e-02\n",
            "  1.83812088e-01 6.83807692e-02 2.95191209e-01 1.51460549e+00\n",
            "  2.02103187e+00 1.79611868e+01 9.95848352e-03 2.56543407e-02\n",
            "  3.31990110e-02 1.02651538e-02 2.54141758e-02 4.97217582e-03\n",
            "  1.08238352e+01 2.29446154e+01 6.97957143e+01 3.58796703e+02\n",
            "  1.31465934e-01 1.64161758e-01 1.40192637e-01 5.34132967e-02\n",
            "  2.73173626e-01 8.52007692e-02]\n",
            " [1.39659504e+01 1.90276860e+01 9.06880165e+01 6.02476860e+02\n",
            "  9.40809091e-02 1.01344711e-01 7.52669174e-02 4.20422479e-02\n",
            "  1.75569421e-01 6.17116529e-02 3.12926446e-01 1.07821405e+00\n",
            "  2.26504876e+00 2.71022314e+01 5.80057851e-03 2.43026281e-02\n",
            "  2.83313223e-02 1.12062562e-02 1.78177851e-02 3.50322149e-03\n",
            "  1.57508264e+01 2.55277686e+01 1.04067107e+02 7.61435537e+02\n",
            "  1.28438926e-01 2.66982975e-01 2.69127851e-01 1.14544628e-01\n",
            "  2.85159504e-01 8.48681818e-02]\n",
            " [2.16750000e+01 2.26625000e+01 1.44733333e+02 1.46675000e+03\n",
            "  1.07715833e-01 1.73916667e-01 2.45833333e-01 1.31065833e-01\n",
            "  1.95425000e-01 6.02741667e-02 9.03566667e-01 1.31857500e+00\n",
            "  6.42233333e+00 1.27005000e+02 7.50666667e-03 4.05083333e-02\n",
            "  5.54833333e-02 1.67533333e-02 1.98733333e-02 4.17350000e-03\n",
            "  2.71833333e+01 3.00241667e+01 1.83983333e+02 2.27191667e+03\n",
            "  1.44983333e-01 4.09366667e-01 5.69216667e-01 2.28475000e-01\n",
            "  3.12266667e-01 8.52466667e-02]\n",
            " [2.74200000e+01 2.62700000e+01 1.86900000e+02 2.50100000e+03\n",
            "  1.08400000e-01 1.98800000e-01 3.63500000e-01 1.68900000e-01\n",
            "  2.06100000e-01 5.62300000e-02 2.54700000e+00 1.30600000e+00\n",
            "  1.86500000e+01 5.42200000e+02 7.65000000e-03 5.37400000e-02\n",
            "  8.05500000e-02 2.59800000e-02 1.69700000e-02 4.55800000e-03\n",
            "  3.60400000e+01 3.13700000e+01 2.51200000e+02 4.25400000e+03\n",
            "  1.35700000e-01 4.25600000e-01 6.83300000e-01 2.62500000e-01\n",
            "  2.64100000e-01 7.42700000e-02]\n",
            " [1.91125641e+01 2.13915385e+01 1.26166667e+02 1.13710256e+03\n",
            "  1.00631538e-01 1.44869744e-01 1.71290000e-01 9.79474359e-02\n",
            "  1.94587179e-01 6.03153846e-02 7.09964103e-01 1.25782821e+00\n",
            "  4.92356410e+00 8.55392308e+01 6.87564103e-03 3.26800000e-02\n",
            "  4.45628205e-02 1.63343077e-02 2.29020513e-02 3.91266667e-03\n",
            "  2.29733333e+01 2.84253846e+01 1.52948718e+02 1.61000000e+03\n",
            "  1.39420513e-01 3.46105128e-01 4.41274359e-01 1.85256410e-01\n",
            "  3.19161538e-01 8.50241026e-02]]\n"
          ]
        }
      ]
    },
    {
      "cell_type": "markdown",
      "metadata": {
        "id": "emgH4KILixZq"
      },
      "source": [
        "# Scatter plot of the data points"
      ]
    },
    {
      "cell_type": "code",
      "metadata": {
        "colab": {
          "base_uri": "https://localhost:8080/",
          "height": 197
        },
        "id": "6aoJmJ0KizLK",
        "outputId": "a5186e09-2bd1-4e60-f7eb-1f92cae1cf34"
      },
      "source": [
        "# Scatter plot of the data points\n",
        "import matplotlib.pyplot as plt\n",
        "fig, ax = plt.subplots(2, 5, figsize=(8, 3))\n",
        "centers = kmeans.cluster_centers_.reshape(10, 6, 5)\n",
        "for axi, center in zip(ax.flat, centers):\n",
        "  axi.set(xticks=[], yticks=[])\n",
        "  axi.imshow(center, interpolation='nearest', cmap=plt.cm.binary)"
      ],
      "execution_count": null,
      "outputs": [
        {
          "output_type": "display_data",
          "data": {
            "image/png": "[encoded data removed]",
            "text/plain": [
              "<Figure size 576x216 with 10 Axes>"
            ]
          },
          "metadata": {}
        }
      ]
    },
    {
      "cell_type": "code",
      "metadata": {
        "id": "S-V_tsl4i57b"
      },
      "source": [
        "import numpy as np\n",
        "from scipy.stats import mode\n",
        "labels = np.zeros_like(prediction)\n",
        "for i in range(10):\n",
        "  mask = (prediction == i)\n",
        "  labels[mask] = mode(dataset.target[mask])[0]"
      ],
      "execution_count": null,
      "outputs": []
    },
    {
      "cell_type": "code",
      "metadata": {
        "colab": {
          "base_uri": "https://localhost:8080/"
        },
        "id": "LKS6jO8fi8tV",
        "outputId": "67af75f6-db95-4c03-91f3-e7fce36f3c90"
      },
      "source": [
        "from sklearn.metrics import accuracy_score\n",
        "accuracy_score(dataset.target, labels)"
      ],
      "execution_count": null,
      "outputs": [
        {
          "output_type": "execute_result",
          "data": {
            "text/plain": [
              "0.9086115992970123"
            ]
          },
          "metadata": {},
          "execution_count": 12
        }
      ]
    },
    {
      "cell_type": "code",
      "metadata": {
        "colab": {
          "base_uri": "https://localhost:8080/",
          "height": 279
        },
        "id": "SaC1AWR2jAPD",
        "outputId": "8d387963-e73f-48fc-b46b-c2d4bae09c9d"
      },
      "source": [
        "from sklearn.metrics import confusion_matrix\n",
        "import seaborn as sns\n",
        "mat = confusion_matrix(dataset.target, labels)\n",
        "ax = sns.heatmap(mat.T, square=True, annot=True, fmt='d', cbar=False,xticklabels=dataset.target_names,yticklabels=dataset.target_names)\n",
        "\n",
        "#ax.set_ylim(10,10)\n",
        "plt.xlabel('true label')\n",
        "plt.ylabel('predicted label');"
      ],
      "execution_count": null,
      "outputs": [
        {
          "output_type": "display_data",
          "data": {
            "image/png": "[encoded data removed]",
            "text/plain": [
              "<Figure size 432x288 with 1 Axes>"
            ]
          },
          "metadata": {
            "needs_background": "light"
          }
        }
      ]
    }
  ]
}